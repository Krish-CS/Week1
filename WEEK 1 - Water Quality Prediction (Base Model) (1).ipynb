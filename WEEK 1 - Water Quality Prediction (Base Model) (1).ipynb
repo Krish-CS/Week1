{
 "cells": [
  {
   "cell_type": "code",
   "execution_count": 1,
   "id": "a50963ac-f791-4608-80ff-f63d68eb7f73",
   "metadata": {},
   "outputs": [
    {
     "name": "stdout",
     "output_type": "stream",
     "text": [
      "Requirement already satisfied: pandas in c:\\users\\user\\appdata\\local\\programs\\python\\python312\\lib\\site-packages (2.3.0)\n",
      "Requirement already satisfied: numpy in c:\\users\\user\\appdata\\local\\programs\\python\\python312\\lib\\site-packages (2.3.1)\n",
      "Requirement already satisfied: scikit-learn in c:\\users\\user\\appdata\\local\\programs\\python\\python312\\lib\\site-packages (1.7.0)\n",
      "Requirement already satisfied: joblib in c:\\users\\user\\appdata\\local\\programs\\python\\python312\\lib\\site-packages (1.5.1)\n",
      "Requirement already satisfied: python-dateutil>=2.8.2 in c:\\users\\user\\appdata\\local\\programs\\python\\python312\\lib\\site-packages (from pandas) (2.9.0.post0)\n",
      "Requirement already satisfied: pytz>=2020.1 in c:\\users\\user\\appdata\\local\\programs\\python\\python312\\lib\\site-packages (from pandas) (2025.2)\n",
      "Requirement already satisfied: tzdata>=2022.7 in c:\\users\\user\\appdata\\local\\programs\\python\\python312\\lib\\site-packages (from pandas) (2025.2)\n",
      "Requirement already satisfied: scipy>=1.8.0 in c:\\users\\user\\appdata\\local\\programs\\python\\python312\\lib\\site-packages (from scikit-learn) (1.16.0)\n",
      "Requirement already satisfied: threadpoolctl>=3.1.0 in c:\\users\\user\\appdata\\local\\programs\\python\\python312\\lib\\site-packages (from scikit-learn) (3.6.0)\n",
      "Requirement already satisfied: six>=1.5 in c:\\users\\user\\appdata\\local\\programs\\python\\python312\\lib\\site-packages (from python-dateutil>=2.8.2->pandas) (1.17.0)\n",
      "Note: you may need to restart the kernel to use updated packages.\n"
     ]
    },
    {
     "name": "stderr",
     "output_type": "stream",
     "text": [
      "\n",
      "[notice] A new release of pip is available: 25.0.1 -> 25.1.1\n",
      "[notice] To update, run: python.exe -m pip install --upgrade pip\n"
     ]
    }
   ],
   "source": [
    "pip install pandas numpy scikit-learn joblib\n"
   ]
  },
  {
   "cell_type": "code",
   "execution_count": 4,
   "id": "a6453c51-14a2-4b00-a060-d3917f754d0c",
   "metadata": {},
   "outputs": [
    {
     "name": "stdout",
     "output_type": "stream",
     "text": [
      "🔍 Model Evaluation Metrics:\n",
      "O2: MSE = 22.22, R2 = -0.02\n",
      "NO3: MSE = 18.15, R2 = 0.52\n",
      "NO2: MSE = 10.61, R2 = -78.42\n",
      "SO4: MSE = 2412.14, R2 = 0.41\n",
      "PO4: MSE = 0.38, R2 = 0.32\n",
      "CL: MSE = 34882.81, R2 = 0.74\n",
      "\n",
      "📈 Predicted pollutant levels for Station 22 in 2024:\n",
      "O2: 12.60\n",
      "NO3: 6.90\n",
      "NO2: 0.13\n",
      "SO4: 143.08\n",
      "PO4: 0.50\n",
      "CL: 67.33\n"
     ]
    }
   ],
   "source": [
    "# WEEK 1 - Water Quality Prediction (Base Model)\n",
    "\n",
    "import pandas as pd\n",
    "import numpy as np\n",
    "from sklearn.ensemble import RandomForestRegressor\n",
    "from sklearn.multioutput import MultiOutputRegressor\n",
    "from sklearn.model_selection import train_test_split\n",
    "from sklearn.metrics import mean_squared_error, r2_score\n",
    "import joblib\n",
    "\n",
    "# 🔹 Load dataset\n",
    "df = pd.read_csv(\"water_quality.csv\", sep=';')\n",
    "\n",
    "# 🔹 Convert 'date' column\n",
    "df['date'] = pd.to_datetime(df['date'], format='%d.%m.%Y', errors='coerce')\n",
    "df = df.sort_values(by=['id', 'date'])\n",
    "\n",
    "# 🔹 Add 'year' and 'month'\n",
    "df['year'] = df['date'].dt.year\n",
    "df['month'] = df['date'].dt.month\n",
    "\n",
    "# 🔹 Target pollutants\n",
    "pollutants = ['O2', 'NO3', 'NO2', 'SO4', 'PO4', 'CL']\n",
    "\n",
    "# 🔹 Drop missing values\n",
    "df = df.dropna(subset=pollutants)\n",
    "\n",
    "# 🔹 Select Features and Target\n",
    "X = df[['id', 'year']]\n",
    "y = df[pollutants]\n",
    "\n",
    "# 🔹 One-hot encode 'id'\n",
    "X_encoded = pd.get_dummies(X, columns=['id'], drop_first=True)\n",
    "\n",
    "# 🔹 Train-test split\n",
    "X_train, X_test, y_train, y_test = train_test_split(\n",
    "    X_encoded, y, test_size=0.2, random_state=42)\n",
    "\n",
    "# 🔹 Train model\n",
    "model = MultiOutputRegressor(\n",
    "    RandomForestRegressor(n_estimators=100, random_state=42))\n",
    "model.fit(X_train, y_train)\n",
    "\n",
    "# 🔹 Evaluate model\n",
    "y_pred = model.predict(X_test)\n",
    "print(\"🔍 Model Evaluation Metrics:\")\n",
    "for i, pollutant in enumerate(pollutants):\n",
    "    mse = mean_squared_error(y_test.iloc[:, i], y_pred[:, i])\n",
    "    r2 = r2_score(y_test.iloc[:, i], y_pred[:, i])\n",
    "    print(f\"{pollutant}: MSE = {mse:.2f}, R2 = {r2:.2f}\")\n",
    "\n",
    "# 🔹 Save model & columns\n",
    "joblib.dump(model, \"pollution_model.pkl\")\n",
    "joblib.dump(X_encoded.columns.tolist(), \"model_columns.pkl\")\n",
    "\n",
    "# 🔹 Predict for custom input\n",
    "station_id = 22\n",
    "year_input = 2024\n",
    "input_data = pd.DataFrame({'year': [year_input], 'id': [station_id]})\n",
    "input_encoded = pd.get_dummies(input_data, columns=['id'])\n",
    "for col in X_encoded.columns:\n",
    "    if col not in input_encoded.columns:\n",
    "        input_encoded[col] = 0\n",
    "input_encoded = input_encoded[X_encoded.columns]\n",
    "\n",
    "# 🔹 Output prediction\n",
    "prediction = model.predict(input_encoded)[0]\n",
    "print(f\"\\n📈 Predicted pollutant levels for Station {station_id} in {year_input}:\")\n",
    "for p, val in zip(pollutants, prediction):\n",
    "    print(f\"{p}: {val:.2f}\")\n"
   ]
  },
  {
   "cell_type": "code",
   "execution_count": null,
   "id": "600be173-feb4-4729-b4ad-1a3e3c71b341",
   "metadata": {},
   "outputs": [],
   "source": []
  }
 ],
 "metadata": {
  "kernelspec": {
   "display_name": "Python 3 (ipykernel)",
   "language": "python",
   "name": "python3"
  },
  "language_info": {
   "codemirror_mode": {
    "name": "ipython",
    "version": 3
   },
   "file_extension": ".py",
   "mimetype": "text/x-python",
   "name": "python",
   "nbconvert_exporter": "python",
   "pygments_lexer": "ipython3",
   "version": "3.12.10"
  }
 },
 "nbformat": 4,
 "nbformat_minor": 5
}
